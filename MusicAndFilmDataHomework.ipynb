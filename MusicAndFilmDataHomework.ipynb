{
 "cells": [
  {
   "cell_type": "code",
   "execution_count": 1,
   "id": "cf9eacc5",
   "metadata": {},
   "outputs": [],
   "source": [
    "# importing and renaming pandas\n",
    "import pandas as pd"
   ]
  },
  {
   "cell_type": "code",
   "execution_count": 3,
   "id": "a7251857",
   "metadata": {},
   "outputs": [],
   "source": [
    "# importing and renaming matplotlib\n",
    "import matplotlib.pyplot as plt"
   ]
  },
  {
   "cell_type": "code",
   "execution_count": 4,
   "id": "6beb1d6a",
   "metadata": {},
   "outputs": [],
   "source": [
    "# creating a path to my file \n",
    "# converting csv to pd DataFrame\n",
    "\n",
    "path = 'Copy_of_Question§.csv'\n",
    "music_and_film_data = pd.read_csv(path)"
   ]
  },
  {
   "cell_type": "code",
   "execution_count": 5,
   "id": "fec65b10",
   "metadata": {},
   "outputs": [
    {
     "data": {
      "text/html": [
       "<div>\n",
       "<style scoped>\n",
       "    .dataframe tbody tr th:only-of-type {\n",
       "        vertical-align: middle;\n",
       "    }\n",
       "\n",
       "    .dataframe tbody tr th {\n",
       "        vertical-align: top;\n",
       "    }\n",
       "\n",
       "    .dataframe thead th {\n",
       "        text-align: right;\n",
       "    }\n",
       "</style>\n",
       "<table border=\"1\" class=\"dataframe\">\n",
       "  <thead>\n",
       "    <tr style=\"text-align: right;\">\n",
       "      <th></th>\n",
       "      <th>Timestamp</th>\n",
       "      <th>Of the following, which is your favourite genre of music?</th>\n",
       "      <th>Of the following, which is your favourite genre of film?</th>\n",
       "      <th>What platform do you use for listening to music?</th>\n",
       "      <th>Where do you mostly watch film?</th>\n",
       "    </tr>\n",
       "  </thead>\n",
       "  <tbody>\n",
       "    <tr>\n",
       "      <th>0</th>\n",
       "      <td>2023/01/03 11:19:10 pm GMT</td>\n",
       "      <td>Punk</td>\n",
       "      <td>Sci Fi</td>\n",
       "      <td>Youtube</td>\n",
       "      <td>Artsy cinema</td>\n",
       "    </tr>\n",
       "    <tr>\n",
       "      <th>1</th>\n",
       "      <td>2023/01/03 11:19:30 pm GMT</td>\n",
       "      <td>Punk</td>\n",
       "      <td>Comedy</td>\n",
       "      <td>Youtube</td>\n",
       "      <td>IMAX</td>\n",
       "    </tr>\n",
       "    <tr>\n",
       "      <th>2</th>\n",
       "      <td>2023/01/03 11:19:44 pm GMT</td>\n",
       "      <td>Jazz</td>\n",
       "      <td>Comedy</td>\n",
       "      <td>Records</td>\n",
       "      <td>TV</td>\n",
       "    </tr>\n",
       "    <tr>\n",
       "      <th>3</th>\n",
       "      <td>2023/01/03 11:20:03 pm GMT</td>\n",
       "      <td>Soul</td>\n",
       "      <td>Drama</td>\n",
       "      <td>Radio</td>\n",
       "      <td>IMAX</td>\n",
       "    </tr>\n",
       "    <tr>\n",
       "      <th>4</th>\n",
       "      <td>2023/01/03 11:20:20 pm GMT</td>\n",
       "      <td>Electronic</td>\n",
       "      <td>Sci Fi</td>\n",
       "      <td>Spotify</td>\n",
       "      <td>Artsy cinema</td>\n",
       "    </tr>\n",
       "    <tr>\n",
       "      <th>5</th>\n",
       "      <td>2023/01/03 11:20:36 pm GMT</td>\n",
       "      <td>Jazz</td>\n",
       "      <td>Horror</td>\n",
       "      <td>Radio</td>\n",
       "      <td>TV</td>\n",
       "    </tr>\n",
       "    <tr>\n",
       "      <th>6</th>\n",
       "      <td>2023/01/03 11:20:52 pm GMT</td>\n",
       "      <td>Jazz</td>\n",
       "      <td>Sci Fi</td>\n",
       "      <td>Spotify</td>\n",
       "      <td>TV</td>\n",
       "    </tr>\n",
       "    <tr>\n",
       "      <th>7</th>\n",
       "      <td>2023/01/03 11:21:09 pm GMT</td>\n",
       "      <td>Punk</td>\n",
       "      <td>Sci Fi</td>\n",
       "      <td>Records</td>\n",
       "      <td>Artsy cinema</td>\n",
       "    </tr>\n",
       "    <tr>\n",
       "      <th>8</th>\n",
       "      <td>2023/01/03 11:21:20 pm GMT</td>\n",
       "      <td>Electronic</td>\n",
       "      <td>Sci Fi</td>\n",
       "      <td>Youtube</td>\n",
       "      <td>Artsy cinema</td>\n",
       "    </tr>\n",
       "    <tr>\n",
       "      <th>9</th>\n",
       "      <td>2023/01/03 11:21:33 pm GMT</td>\n",
       "      <td>Jazz</td>\n",
       "      <td>Horror</td>\n",
       "      <td>Spotify</td>\n",
       "      <td>TV</td>\n",
       "    </tr>\n",
       "    <tr>\n",
       "      <th>10</th>\n",
       "      <td>2023/01/03 11:22:21 pm GMT</td>\n",
       "      <td>Soul</td>\n",
       "      <td>Comedy</td>\n",
       "      <td>Youtube</td>\n",
       "      <td>Laptop in bed</td>\n",
       "    </tr>\n",
       "    <tr>\n",
       "      <th>11</th>\n",
       "      <td>2023/01/03 11:23:15 pm GMT</td>\n",
       "      <td>Electronic</td>\n",
       "      <td>Drama</td>\n",
       "      <td>Spotify</td>\n",
       "      <td>Laptop in bed</td>\n",
       "    </tr>\n",
       "  </tbody>\n",
       "</table>\n",
       "</div>"
      ],
      "text/plain": [
       "                     Timestamp  \\\n",
       "0   2023/01/03 11:19:10 pm GMT   \n",
       "1   2023/01/03 11:19:30 pm GMT   \n",
       "2   2023/01/03 11:19:44 pm GMT   \n",
       "3   2023/01/03 11:20:03 pm GMT   \n",
       "4   2023/01/03 11:20:20 pm GMT   \n",
       "5   2023/01/03 11:20:36 pm GMT   \n",
       "6   2023/01/03 11:20:52 pm GMT   \n",
       "7   2023/01/03 11:21:09 pm GMT   \n",
       "8   2023/01/03 11:21:20 pm GMT   \n",
       "9   2023/01/03 11:21:33 pm GMT   \n",
       "10  2023/01/03 11:22:21 pm GMT   \n",
       "11  2023/01/03 11:23:15 pm GMT   \n",
       "\n",
       "   Of the following, which is your favourite genre of music?  \\\n",
       "0                                                Punk          \n",
       "1                                                Punk          \n",
       "2                                                Jazz          \n",
       "3                                                Soul          \n",
       "4                                          Electronic          \n",
       "5                                                Jazz          \n",
       "6                                                Jazz          \n",
       "7                                                Punk          \n",
       "8                                          Electronic          \n",
       "9                                                Jazz          \n",
       "10                                               Soul          \n",
       "11                                         Electronic          \n",
       "\n",
       "   Of the following, which is your favourite genre of film?  \\\n",
       "0                                              Sci Fi         \n",
       "1                                              Comedy         \n",
       "2                                              Comedy         \n",
       "3                                               Drama         \n",
       "4                                              Sci Fi         \n",
       "5                                              Horror         \n",
       "6                                              Sci Fi         \n",
       "7                                              Sci Fi         \n",
       "8                                              Sci Fi         \n",
       "9                                              Horror         \n",
       "10                                             Comedy         \n",
       "11                                              Drama         \n",
       "\n",
       "   What platform do you use for listening to music?  \\\n",
       "0                                           Youtube   \n",
       "1                                           Youtube   \n",
       "2                                           Records   \n",
       "3                                             Radio   \n",
       "4                                           Spotify   \n",
       "5                                             Radio   \n",
       "6                                           Spotify   \n",
       "7                                           Records   \n",
       "8                                           Youtube   \n",
       "9                                           Spotify   \n",
       "10                                          Youtube   \n",
       "11                                          Spotify   \n",
       "\n",
       "   Where do you mostly watch film?  \n",
       "0                     Artsy cinema  \n",
       "1                             IMAX  \n",
       "2                               TV  \n",
       "3                             IMAX  \n",
       "4                     Artsy cinema  \n",
       "5                               TV  \n",
       "6                               TV  \n",
       "7                     Artsy cinema  \n",
       "8                     Artsy cinema  \n",
       "9                               TV  \n",
       "10                   Laptop in bed  \n",
       "11                   Laptop in bed  "
      ]
     },
     "execution_count": 5,
     "metadata": {},
     "output_type": "execute_result"
    }
   ],
   "source": [
    "# printing DataFrame\n",
    "music_and_film_data"
   ]
  },
  {
   "cell_type": "code",
   "execution_count": 6,
   "id": "ff15982a",
   "metadata": {},
   "outputs": [
    {
     "data": {
      "text/html": [
       "<div>\n",
       "<style scoped>\n",
       "    .dataframe tbody tr th:only-of-type {\n",
       "        vertical-align: middle;\n",
       "    }\n",
       "\n",
       "    .dataframe tbody tr th {\n",
       "        vertical-align: top;\n",
       "    }\n",
       "\n",
       "    .dataframe thead th {\n",
       "        text-align: right;\n",
       "    }\n",
       "</style>\n",
       "<table border=\"1\" class=\"dataframe\">\n",
       "  <thead>\n",
       "    <tr style=\"text-align: right;\">\n",
       "      <th></th>\n",
       "      <th>Timestamp</th>\n",
       "      <th>Of the following, which is your favourite genre of music?</th>\n",
       "      <th>Of the following, which is your favourite genre of film?</th>\n",
       "      <th>What platform do you use for listening to music?</th>\n",
       "      <th>Where do you mostly watch film?</th>\n",
       "    </tr>\n",
       "  </thead>\n",
       "  <tbody>\n",
       "    <tr>\n",
       "      <th>0</th>\n",
       "      <td>2023/01/03 11:19:10 pm GMT</td>\n",
       "      <td>Punk</td>\n",
       "      <td>Sci Fi</td>\n",
       "      <td>Youtube</td>\n",
       "      <td>Artsy cinema</td>\n",
       "    </tr>\n",
       "    <tr>\n",
       "      <th>1</th>\n",
       "      <td>2023/01/03 11:19:30 pm GMT</td>\n",
       "      <td>Punk</td>\n",
       "      <td>Comedy</td>\n",
       "      <td>Youtube</td>\n",
       "      <td>IMAX</td>\n",
       "    </tr>\n",
       "    <tr>\n",
       "      <th>2</th>\n",
       "      <td>2023/01/03 11:19:44 pm GMT</td>\n",
       "      <td>Jazz</td>\n",
       "      <td>Comedy</td>\n",
       "      <td>Records</td>\n",
       "      <td>TV</td>\n",
       "    </tr>\n",
       "    <tr>\n",
       "      <th>3</th>\n",
       "      <td>2023/01/03 11:20:03 pm GMT</td>\n",
       "      <td>Soul</td>\n",
       "      <td>Drama</td>\n",
       "      <td>Radio</td>\n",
       "      <td>IMAX</td>\n",
       "    </tr>\n",
       "    <tr>\n",
       "      <th>4</th>\n",
       "      <td>2023/01/03 11:20:20 pm GMT</td>\n",
       "      <td>Electronic</td>\n",
       "      <td>Sci Fi</td>\n",
       "      <td>Spotify</td>\n",
       "      <td>Artsy cinema</td>\n",
       "    </tr>\n",
       "  </tbody>\n",
       "</table>\n",
       "</div>"
      ],
      "text/plain": [
       "                    Timestamp  \\\n",
       "0  2023/01/03 11:19:10 pm GMT   \n",
       "1  2023/01/03 11:19:30 pm GMT   \n",
       "2  2023/01/03 11:19:44 pm GMT   \n",
       "3  2023/01/03 11:20:03 pm GMT   \n",
       "4  2023/01/03 11:20:20 pm GMT   \n",
       "\n",
       "  Of the following, which is your favourite genre of music?  \\\n",
       "0                                               Punk          \n",
       "1                                               Punk          \n",
       "2                                               Jazz          \n",
       "3                                               Soul          \n",
       "4                                         Electronic          \n",
       "\n",
       "  Of the following, which is your favourite genre of film?  \\\n",
       "0                                             Sci Fi         \n",
       "1                                             Comedy         \n",
       "2                                             Comedy         \n",
       "3                                              Drama         \n",
       "4                                             Sci Fi         \n",
       "\n",
       "  What platform do you use for listening to music?  \\\n",
       "0                                          Youtube   \n",
       "1                                          Youtube   \n",
       "2                                          Records   \n",
       "3                                            Radio   \n",
       "4                                          Spotify   \n",
       "\n",
       "  Where do you mostly watch film?  \n",
       "0                    Artsy cinema  \n",
       "1                            IMAX  \n",
       "2                              TV  \n",
       "3                            IMAX  \n",
       "4                    Artsy cinema  "
      ]
     },
     "execution_count": 6,
     "metadata": {},
     "output_type": "execute_result"
    }
   ],
   "source": [
    "# finding the first 5 rows of this massive list\n",
    "music_and_film_data.head()"
   ]
  },
  {
   "cell_type": "code",
   "execution_count": 7,
   "id": "2330d48f",
   "metadata": {},
   "outputs": [
    {
     "data": {
      "text/plain": [
       "0           Punk\n",
       "1           Punk\n",
       "2           Jazz\n",
       "3           Soul\n",
       "4     Electronic\n",
       "5           Jazz\n",
       "6           Jazz\n",
       "7           Punk\n",
       "8     Electronic\n",
       "9           Jazz\n",
       "10          Soul\n",
       "11    Electronic\n",
       "Name: Of the following, which is your favourite genre of music?, dtype: object"
      ]
     },
     "execution_count": 7,
     "metadata": {},
     "output_type": "execute_result"
    }
   ],
   "source": [
    "# renaming and printing musical genres\n",
    "favourite_music_genre = music_and_film_data['Of the following, which is your favourite genre of music?']\n",
    "favourite_music_genre "
   ]
  },
  {
   "cell_type": "code",
   "execution_count": 8,
   "id": "1e2196e7",
   "metadata": {},
   "outputs": [
    {
     "data": {
      "text/plain": [
       "0     Youtube\n",
       "1     Youtube\n",
       "2     Records\n",
       "3       Radio\n",
       "4     Spotify\n",
       "5       Radio\n",
       "6     Spotify\n",
       "7     Records\n",
       "8     Youtube\n",
       "9     Spotify\n",
       "10    Youtube\n",
       "11    Spotify\n",
       "Name: What platform do you use for listening to music?, dtype: object"
      ]
     },
     "execution_count": 8,
     "metadata": {},
     "output_type": "execute_result"
    }
   ],
   "source": [
    "# renaming and printing listening platforms \n",
    "music_listening_platform = music_and_film_data['What platform do you use for listening to music?']\n",
    "music_listening_platform"
   ]
  },
  {
   "cell_type": "code",
   "execution_count": 10,
   "id": "cf5dcb5a",
   "metadata": {},
   "outputs": [
    {
     "data": {
      "text/plain": [
       "Index(['Timestamp',\n",
       "       'Of the following, which is your favourite genre of music?',\n",
       "       'Of the following, which is your favourite genre of film?',\n",
       "       'What platform do you use for listening to music?',\n",
       "       'Where do you mostly watch film?'],\n",
       "      dtype='object')"
      ]
     },
     "execution_count": 10,
     "metadata": {},
     "output_type": "execute_result"
    }
   ],
   "source": [
    "# printing column titles\n",
    "music_and_film_data.columns"
   ]
  },
  {
   "cell_type": "code",
   "execution_count": 11,
   "id": "96c989aa",
   "metadata": {},
   "outputs": [
    {
     "data": {
      "text/plain": [
       "array(['Sci Fi', 'Comedy', 'Drama', 'Horror'], dtype=object)"
      ]
     },
     "execution_count": 11,
     "metadata": {},
     "output_type": "execute_result"
    }
   ],
   "source": [
    "# identifying the unique film genres in the list\n",
    "favourite_film_genre = music_and_film_data['Of the following, which is your favourite genre of film?']\n",
    "favourite_film_genre.unique()"
   ]
  },
  {
   "cell_type": "code",
   "execution_count": 17,
   "id": "096e9eb0",
   "metadata": {},
   "outputs": [
    {
     "data": {
      "text/plain": [
       "[('Artsy cinema', 4)]"
      ]
     },
     "execution_count": 17,
     "metadata": {},
     "output_type": "execute_result"
    }
   ],
   "source": [
    "# identifying the most common location to watch films\n",
    "screen_of_choice = music_and_film_data['Where do you mostly watch film?']\n",
    "from collections import Counter\n",
    "most_popular_screen = Counter(screen_of_choice).most_common(1)\n",
    "most_popular_screen"
   ]
  },
  {
   "cell_type": "code",
   "execution_count": 18,
   "id": "579ea962",
   "metadata": {},
   "outputs": [
    {
     "data": {
      "text/plain": [
       "[('Youtube', 4)]"
      ]
     },
     "execution_count": 18,
     "metadata": {},
     "output_type": "execute_result"
    }
   ],
   "source": [
    "# identifying the most common platform \n",
    "bestest_platform_for_tunes = Counter(music_listening_platform).most_common(1)\n",
    "bestest_platform_for_tunes"
   ]
  },
  {
   "cell_type": "code",
   "execution_count": 20,
   "id": "ec4c5a39",
   "metadata": {},
   "outputs": [
    {
     "data": {
      "text/plain": [
       "('Radio', 2)"
      ]
     },
     "execution_count": 20,
     "metadata": {},
     "output_type": "execute_result"
    }
   ],
   "source": [
    "# identifying the least common platform. I had to look this up since it was not in the class recording. \n",
    "# casually shaming radio \n",
    "lol_is_that_really_how_you_listen_to_music = Counter(music_listening_platform).most_common()[-1]\n",
    "lol_is_that_really_how_you_listen_to_music"
   ]
  }
 ],
 "metadata": {
  "kernelspec": {
   "display_name": "Python 3 (ipykernel)",
   "language": "python",
   "name": "python3"
  },
  "language_info": {
   "codemirror_mode": {
    "name": "ipython",
    "version": 3
   },
   "file_extension": ".py",
   "mimetype": "text/x-python",
   "name": "python",
   "nbconvert_exporter": "python",
   "pygments_lexer": "ipython3",
   "version": "3.11.1"
  }
 },
 "nbformat": 4,
 "nbformat_minor": 5
}
